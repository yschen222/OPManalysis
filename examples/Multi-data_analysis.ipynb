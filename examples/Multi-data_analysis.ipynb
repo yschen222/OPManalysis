{
 "cells": [
  {
   "cell_type": "code",
   "execution_count": null,
   "id": "f7571abf-9e4a-46b7-a048-a248b6c9d24b",
   "metadata": {},
   "outputs": [],
   "source": [
    "root = r\"C:your\\documents\\path\"\n",
    "%run \"scripts\\batch_opm_summary.py\" \"$root\" --title \"OPM Batch from Notebook\""
   ]
  },
  {
   "cell_type": "code",
   "execution_count": null,
   "id": "45f99fc8-2e5d-4a0e-a76b-b4afcf00f645",
   "metadata": {},
   "outputs": [],
   "source": []
  }
 ],
 "metadata": {
  "kernelspec": {
   "display_name": "Python 3 (ipykernel)",
   "language": "python",
   "name": "python3"
  },
  "language_info": {
   "codemirror_mode": {
    "name": "ipython",
    "version": 3
   },
   "file_extension": ".py",
   "mimetype": "text/x-python",
   "name": "python",
   "nbconvert_exporter": "python",
   "pygments_lexer": "ipython3",
   "version": "3.12.7"
  }
 },
 "nbformat": 4,
 "nbformat_minor": 5
}
