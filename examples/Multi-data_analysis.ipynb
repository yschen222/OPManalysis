{
 "cells": [
  {
   "cell_type": "code",
   "execution_count": null,
   "id": "f7571abf-9e4a-46b7-a048-a248b6c9d24b",
   "metadata": {},
   "outputs": [],
   "source": [
    "# run_analysis.py\n",
    "from pathlib import Path\n",
    "import opm_batch.config as cfg\n",
    "from opm_batch import process_root\n",
    "from labutils import run_with_notify\n",
    "\n",
    "# === 在執行前修改參數 ===\n",
    "cfg.B_RANGE_NT = (-32.12, 32.12)        # 磁場範圍\n",
    "cfg.DISP_CENTER = 5.0                  # Dispersion 中心\n",
    "cfg.WIDTHRATIO = 15.0                  # 窗口寬度比例\n",
    "cfg.DISP_P0_AMPL = 0.02                # Dispersion 初始振幅\n",
    "\n",
    "# Voigt 參數\n",
    "cfg.VOIGT_USE_MODEL_SELECTION = True\n",
    "cfg.VOIGT_MAXFEV = 50000\n",
    "\n",
    "# 繪圖參數\n",
    "cfg.PLOT_ENABLED = True\n",
    "cfg.PLOT_DPI = 200\n",
    "cfg.PLOT_FMT = \"png\"  \n",
    "\n",
    "# 噪聲參數\n",
    "cfg.NOISE_BAND = (5.0, 100.0)\n",
    "cfg.NOISE_MODE = \"lowband\"\n",
    "\n",
    "# 選擇要計算的指標\n",
    "cfg.SELECT_METRICS = [\n",
    "    \"slope\", \"sloper2\", \n",
    "    \"noisepsd\", \"sensitivity\",\n",
    "    \"lorentzfwhm\", \"gaussianfwhm\", \"voigtfwhm\",\n",
    "    \"voigtgamma\", \"voigtsigma\", \"voigtr2\"\n",
    "]\n",
    "\n",
    "# === 執行分析 ===\n",
    "data_dir = Path(r\"Your/data/path\")\n",
    "run_with_notify(\n",
    "    process_root, \n",
    "    data_dir, \n",
    "    title=\"OPM Analysis Complete\"\n",
    ")\n",
    "\n",
    "print(\"Analysis complete!\")"
   ]
  },
  {
   "cell_type": "code",
   "execution_count": null,
   "id": "45f99fc8-2e5d-4a0e-a76b-b4afcf00f645",
   "metadata": {},
   "outputs": [],
   "source": []
  }
 ],
 "metadata": {
  "kernelspec": {
   "display_name": "Python 3 (ipykernel)",
   "language": "python",
   "name": "python3"
  },
  "language_info": {
   "codemirror_mode": {
    "name": "ipython",
    "version": 3
   },
   "file_extension": ".py",
   "mimetype": "text/x-python",
   "name": "python",
   "nbconvert_exporter": "python",
   "pygments_lexer": "ipython3",
   "version": "3.13.5"
  }
 },
 "nbformat": 4,
 "nbformat_minor": 5
}
